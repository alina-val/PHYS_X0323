{
 "cells": [
  {
   "cell_type": "code",
   "execution_count": 3,
   "metadata": {
    "scrolled": true
   },
   "outputs": [
    {
     "name": "stdout",
     "output_type": "stream",
     "text": [
      "(-9.999894245993346e-07, -999999.999999)\n"
     ]
    }
   ],
   "source": [
    "#1\n",
    "#a part\n",
    "import numpy as np\n",
    "\n",
    "a = 0.001\n",
    "b = 1000\n",
    "c = 0.001\n",
    "\n",
    "def f1(a,b,c):\n",
    "    \n",
    "    x1 = (- b + np.sqrt(b**2 - 4*a*c))/(2*a)\n",
    "    x2 = (- b - np.sqrt(b**2 - 4*a*c))/(2*a)\n",
    "    return x1, x2\n",
    "\n",
    "print(f1(a,b,c))"
   ]
  },
  {
   "cell_type": "code",
   "execution_count": 5,
   "metadata": {},
   "outputs": [
    {
     "name": "stdout",
     "output_type": "stream",
     "text": [
      "(-1.000000000001e-06, -1000010.5755125057)\n"
     ]
    }
   ],
   "source": [
    "#b part\n",
    "import numpy as np\n",
    "\n",
    "a = 0.001\n",
    "b = 1000\n",
    "c = 0.001\n",
    "\n",
    "def f2(a,b,c):\n",
    "    \n",
    "    x11 = (2*c)/(- b - np.sqrt(b**2 - 4*a*c))\n",
    "    x22 = (2*c)/(- b + np.sqrt(b**2 - 4*a*c))\n",
    "    return x11, x22\n",
    "\n",
    "print(f2(a,b,c))\n",
    "#the right answers are x2 and x11"
   ]
  },
  {
   "cell_type": "code",
   "execution_count": 11,
   "metadata": {},
   "outputs": [
    {
     "name": "stdout",
     "output_type": "stream",
     "text": [
      "The roots are \n",
      " -999999.999999 -1.000000000001e-06\n"
     ]
    }
   ],
   "source": [
    "#c part\n",
    "import numpy as np\n",
    "\n",
    "a = 0.001\n",
    "b = 1000\n",
    "c = 0.001\n",
    "\n",
    "d = b**2 - 4*a*c #discriminat\n",
    "    \n",
    "if a == 0:\n",
    "    if b == 0:\n",
    "        print('a and b are equals zero')\n",
    "    else:\n",
    "        root = -c/b\n",
    "        print(\"a = 0, The root is\", root)\n",
    "\n",
    "elif d == 0:\n",
    "    lroot = (-b)/(2*a)\n",
    "    print(\"d = 0, The root is\", lroot)\n",
    "    \n",
    "elif d < 0:\n",
    "    real_root1 = real_root2 = (-b)/(2*a)\n",
    "    imaginary1 = np.sqrt(-d)/(2*a)\n",
    "    imaginary2 = - np.sqrt(-d)/(2*a)\n",
    "    print('The roots are complex numbers:', '\\n', complex(real_root1,imaginary1),'\\n',complex(real_root2,imaginary2))\n",
    "    \n",
    "else:\n",
    "    kroot1 = (- b - np.sqrt(d))/(2*a)\n",
    "    kroot2 = (2*c)/(- b - np.sqrt(d))\n",
    "    print(\"The roots are \\n\",kroot1, kroot2)"
   ]
  },
  {
   "cell_type": "code",
   "execution_count": 7,
   "metadata": {},
   "outputs": [
    {
     "data": {
      "text/plain": [
       "Text(0.5, 0, 'Temperature, K')"
      ]
     },
     "execution_count": 7,
     "metadata": {},
     "output_type": "execute_result"
    },
    {
     "data": {
      "image/png": "[encoded data removed]",
      "text/plain": [
       "<Figure size 432x288 with 1 Axes>"
      ]
     },
     "metadata": {
      "needs_background": "light"
     },
     "output_type": "display_data"
    }
   ],
   "source": [
    "# 2\n",
    "import numpy as np\n",
    "\n",
    "heat_capacity = []\n",
    "temp =[]\n",
    "\n",
    "for T in range(5, 500, 10):\n",
    "    V = 0.001 \n",
    "    r = 6.022 * (10**28)\n",
    "    Td  = 428\n",
    "    k = 1.38 * (10**(-23))\n",
    "    C = 9*V*r*k*((T/Td)**3)\n",
    "    def f(x):\n",
    "        if x == a:\n",
    "            return 0\n",
    "        else:\n",
    "            return ((x**4)*(np.exp(x)))/((np.exp(x) - 1)**2)\n",
    "    \n",
    "    N = 1000\n",
    "    a = 0\n",
    "    b = Td/T\n",
    "    h = (b-a)/N\n",
    "\n",
    "    s = 0.5*f(a) + 0.5*f(b)\n",
    "    for k in range (1,N):\n",
    "        s += f(a+k*h)\n",
    "    heat_capacity_T = C*h*s\n",
    "    heat_capacity.append(heat_capacity_T)\n",
    "    temp.append(T)\n",
    "    \n",
    "import matplotlib.pyplot as plt\n",
    "plt.plot(temp,heat_capacity)\n",
    "plt.ylabel(\"Heat capacity\")\n",
    "plt.xlabel(\"Temperature, K\")"
   ]
  },
  {
   "cell_type": "markdown",
   "metadata": {},
   "source": [
    "# "
   ]
  }
 ],
 "metadata": {
  "kernelspec": {
   "display_name": "Python 3",
   "language": "python",
   "name": "python3"
  },
  "language_info": {
   "codemirror_mode": {
    "name": "ipython",
    "version": 3
   },
   "file_extension": ".py",
   "mimetype": "text/x-python",
   "name": "python",
   "nbconvert_exporter": "python",
   "pygments_lexer": "ipython3",
   "version": "3.8.3"
  }
 },
 "nbformat": 4,
 "nbformat_minor": 4
}
